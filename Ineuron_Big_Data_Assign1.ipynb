{
  "nbformat": 4,
  "nbformat_minor": 0,
  "metadata": {
    "colab": {
      "provenance": [],
      "authorship_tag": "ABX9TyPlOE3CnrQX90kQ7vgCVJnp",
      "include_colab_link": true
    },
    "kernelspec": {
      "name": "python3",
      "display_name": "Python 3"
    },
    "language_info": {
      "name": "python"
    }
  },
  "cells": [
    {
      "cell_type": "markdown",
      "metadata": {
        "id": "view-in-github",
        "colab_type": "text"
      },
      "source": [
        "<a href=\"https://colab.research.google.com/github/HusnaRiyaz/Ineuron_Big_Data_PPT/blob/main/Ineuron_Big_Data_Assign1.ipynb\" target=\"_parent\"><img src=\"https://colab.research.google.com/assets/colab-badge.svg\" alt=\"Open In Colab\"/></a>"
      ]
    },
    {
      "cell_type": "markdown",
      "source": [
        "# **1)Write a Python program to check if a given string is an anagram.**"
      ],
      "metadata": {
        "id": "BHtHDQ2TVAIR"
      }
    },
    {
      "cell_type": "code",
      "execution_count": null,
      "metadata": {
        "colab": {
          "base_uri": "https://localhost:8080/"
        },
        "id": "z-0so5vaUuxk",
        "outputId": "028abfca-aa08-4f8c-f602-1167462fc8a7"
      },
      "outputs": [
        {
          "output_type": "stream",
          "name": "stdout",
          "text": [
            "Enter the first string: husna\n",
            "Enter the second string: ansuh\n",
            "Yes, the two string are anagram of each other\n"
          ]
        }
      ],
      "source": [
        "str1 = input('Enter the first string:')\n",
        "str2 = input('Enter the second string:')\n",
        "if sorted(str1) == sorted(str2):\n",
        "  print(\"Yes, the two string are anagram of each other\")\n",
        "else:\n",
        "  print(\"No, it's not an anagram\")"
      ]
    },
    {
      "cell_type": "markdown",
      "source": [
        "# **2)Write a Python program to find the maximum and minimum values in a**\n",
        "# **dictionary.**"
      ],
      "metadata": {
        "id": "zBLkbCoVVSmy"
      }
    },
    {
      "cell_type": "code",
      "source": [
        "d = {'x':67, 'y':55, 'z':23}\n",
        "print(max(d.values()))\n",
        "print(min(d.values()))"
      ],
      "metadata": {
        "colab": {
          "base_uri": "https://localhost:8080/"
        },
        "id": "RIUXLJNBVhDp",
        "outputId": "b742aac8-9d8e-47e6-858a-765aa9fae2ad"
      },
      "execution_count": null,
      "outputs": [
        {
          "output_type": "stream",
          "name": "stdout",
          "text": [
            "67\n",
            "23\n"
          ]
        }
      ]
    },
    {
      "cell_type": "code",
      "source": [
        "key_max = max(d.keys(), key=(lambda k: d[k]))\n",
        "key_min = min(d.keys(), key=(lambda k: d[k]))\n",
        "print('Maximum Value: ',d[key_max])\n",
        "print('Minimum Value: ',d[key_min])"
      ],
      "metadata": {
        "colab": {
          "base_uri": "https://localhost:8080/"
        },
        "id": "fZji24AhaleU",
        "outputId": "16984b9a-92d8-42cb-d94e-662cba5bf602"
      },
      "execution_count": null,
      "outputs": [
        {
          "output_type": "stream",
          "name": "stdout",
          "text": [
            "Maximum Value:  67\n",
            "Minimum Value:  23\n"
          ]
        }
      ]
    },
    {
      "cell_type": "markdown",
      "source": [
        "# **3)Write a Python program to find the average of a list of numbers.**"
      ],
      "metadata": {
        "id": "V2NxWjKAVvnp"
      }
    },
    {
      "cell_type": "code",
      "source": [
        "def Average(lst):\n",
        "\treturn sum(lst) / len(lst)\n",
        "\n",
        "\n",
        "lst = [15, 64, 87, 41, 35, 20, 62, 39]\n",
        "average = Average(lst)\n",
        "\n",
        "# Printing average of the list\n",
        "print(\"Average of the list =\", round(average, 2))\n"
      ],
      "metadata": {
        "colab": {
          "base_uri": "https://localhost:8080/"
        },
        "id": "nqw6dugTYzSL",
        "outputId": "86d590fc-3494-4c00-c55e-d35e56f468e4"
      },
      "execution_count": null,
      "outputs": [
        {
          "output_type": "stream",
          "name": "stdout",
          "text": [
            "Average of the list = 45.38\n"
          ]
        }
      ]
    },
    {
      "cell_type": "code",
      "source": [
        "# Using mean()\n",
        "\n",
        "# importing mean()\n",
        "from statistics import mean\n",
        "\n",
        "def Average(lst):\n",
        "\treturn mean(lst)\n",
        "\n",
        "lst = [15, 64, 87, 41, 35, 20, 62, 39]\n",
        "average = Average(lst)\n",
        "\n",
        "# Printing average of the list\n",
        "print(\"Average of the list =\", round(average, 2))\n"
      ],
      "metadata": {
        "colab": {
          "base_uri": "https://localhost:8080/"
        },
        "id": "8GiQA_zrVyMo",
        "outputId": "6402f9d8-81c8-4f40-e549-bed99d64f157"
      },
      "execution_count": null,
      "outputs": [
        {
          "output_type": "stream",
          "name": "stdout",
          "text": [
            "Average of the list = 45.38\n"
          ]
        }
      ]
    },
    {
      "cell_type": "markdown",
      "source": [
        "# **4)Write a Python program to remove all vowels from a string.**"
      ],
      "metadata": {
        "id": "6b-29UvpVxjI"
      }
    },
    {
      "cell_type": "code",
      "source": [
        "l = \"husna\"\n",
        "new_l = []\n",
        "for i in range(len(l)):\n",
        "  if l[i] !='a' and l[i] !='e' and l[i] !='i' and l[i] !='o' and l[i] !='u':\n",
        "    new_l.append(l[i])\n",
        "print(new_l)\n",
        "\n"
      ],
      "metadata": {
        "colab": {
          "base_uri": "https://localhost:8080/"
        },
        "id": "iqHtSDuRV3CJ",
        "outputId": "72e86143-38b1-4fdf-b07c-7a2e6ab7b902"
      },
      "execution_count": null,
      "outputs": [
        {
          "output_type": "stream",
          "name": "stdout",
          "text": [
            "['h', 's', 'n']\n"
          ]
        }
      ]
    },
    {
      "cell_type": "code",
      "source": [
        "# Python program to remove vowels from a string\n",
        "# Function to remove vowels\n",
        "def rem_vowel(string):\n",
        "\tvowels = ['a','e','i','o','u']\n",
        "\tresult = [letter for letter in string if letter.lower() not in vowels]\n",
        "\tresult = ''.join(result)\n",
        "\tprint(result)\n",
        "\n",
        "# Driver program\n",
        "string = \"Big Data is fascinating and fun\"\n",
        "rem_vowel(string)\n",
        "\n"
      ],
      "metadata": {
        "colab": {
          "base_uri": "https://localhost:8080/"
        },
        "id": "v6E1ynu1V_I5",
        "outputId": "31a279b4-3d32-4b84-e909-35a6bc4e7f03"
      },
      "execution_count": null,
      "outputs": [
        {
          "output_type": "stream",
          "name": "stdout",
          "text": [
            "Bg Dt s fscntng nd fn\n"
          ]
        }
      ]
    },
    {
      "cell_type": "markdown",
      "source": [
        "# **5)Write a Python function to calculate the factorial of a number using recursion.**"
      ],
      "metadata": {
        "id": "D3JlY21dWCWh"
      }
    },
    {
      "cell_type": "code",
      "source": [
        "#recursion\n",
        "def factorial(x):\n",
        "  if x == 1 or 0:\n",
        "    return 1\n",
        "  else:\n",
        "    return x*factorial(x-1)\n",
        "\n",
        "x = int(input(\"Enter the number\"))\n",
        "\n",
        "ans = factorial(x)\n",
        "print(ans)"
      ],
      "metadata": {
        "colab": {
          "base_uri": "https://localhost:8080/"
        },
        "id": "qucNEvubWKU5",
        "outputId": "fa467ed2-bc2c-403e-8966-60d2e2d58a54"
      },
      "execution_count": null,
      "outputs": [
        {
          "output_type": "stream",
          "name": "stdout",
          "text": [
            "Enter the number 5\n",
            "120\n"
          ]
        }
      ]
    },
    {
      "cell_type": "markdown",
      "source": [
        "# **6)Write a Python program to merge two unsorted lists into a single sorted list using the merge sort algorithm.**"
      ],
      "metadata": {
        "id": "mcSh1gGRWZlp"
      }
    },
    {
      "cell_type": "code",
      "source": [
        "def merge(num1, num2):\n",
        "    arr3 = [None]*(len(num1)+len(num2))\n",
        "    i, j, k = 0, 0, 0\n",
        "    arr1.sort()\n",
        "    arr2.sort()\n",
        "\n",
        "    while i < len(arr1) and j < len(arr2):\n",
        "        if arr1[i] < arr2[j]:\n",
        "            arr3[k] = arr1[i]\n",
        "            k += 1\n",
        "            i += 1\n",
        "        else:\n",
        "            arr3[k] = arr2[j]\n",
        "            k += 1\n",
        "            j += 1\n",
        "\n",
        "    while i < len(num1):\n",
        "        arr3[k] = arr1[i];\n",
        "        k += 1\n",
        "        i += 1\n",
        "\n",
        "    while j < len(num2):\n",
        "        arr3[k] = arr2[j];\n",
        "        k += 1\n",
        "        j += 1\n",
        "\n",
        "    return arr3\n",
        "\n",
        "arr1 = [5, 3, 6, 10]\n",
        "arr2 = [1, 2, 9, 8, 13, 12]\n",
        "merge(arr1, arr2)"
      ],
      "metadata": {
        "id": "0_WlFcmqW1s8",
        "colab": {
          "base_uri": "https://localhost:8080/"
        },
        "outputId": "da31a9af-4917-4435-b714-5267d1ed2734"
      },
      "execution_count": 4,
      "outputs": [
        {
          "output_type": "execute_result",
          "data": {
            "text/plain": [
              "[1, 2, 3, 5, 6, 8, 9, 10, 12, 13]"
            ]
          },
          "metadata": {},
          "execution_count": 4
        }
      ]
    },
    {
      "cell_type": "markdown",
      "source": [
        "# **7)Write a Python program to find the GCD (Greatest Common Divisor) of two**\n",
        "# **numbers.**"
      ],
      "metadata": {
        "id": "X5STmmtjXKgK"
      }
    },
    {
      "cell_type": "code",
      "source": [
        "gcd = lambda a, b: a if b == 0 else gcd(b, a % b)\n",
        "\n",
        "a = 60\n",
        "b = 48\n",
        "\n",
        "# Prints 12\n",
        "print(\"The gcd of 60 and 48 is:\", gcd(a, b))\n"
      ],
      "metadata": {
        "colab": {
          "base_uri": "https://localhost:8080/"
        },
        "id": "QI-w7Gg9XX9C",
        "outputId": "ef7e911e-3efb-490f-d114-b37bf0111261"
      },
      "execution_count": null,
      "outputs": [
        {
          "output_type": "stream",
          "name": "stdout",
          "text": [
            "The gcd of 60 and 48 is: 12\n"
          ]
        }
      ]
    },
    {
      "cell_type": "code",
      "source": [
        "# Recursive function to return gcd of a and b\n",
        "def gcd(a, b):\n",
        "\n",
        "\t# Everything divides 0\n",
        "\tif (a == 0):\n",
        "\t\treturn b\n",
        "\tif (b == 0):\n",
        "\t\treturn a\n",
        "\n",
        "\t# base case\n",
        "\tif (a == b):\n",
        "\t\treturn a\n",
        "\n",
        "\t# a is greater\n",
        "\tif (a > b):\n",
        "\t\treturn gcd(a-b, b)\n",
        "\treturn gcd(a, b-a)\n",
        "\n",
        "# Driver program to test above function\n",
        "a = 98\n",
        "b = 56\n",
        "if(gcd(a, b)):\n",
        "\tprint('GCD of', a, 'and', b, 'is', gcd(a, b))\n",
        "else:\n",
        "\tprint('not found')\n"
      ],
      "metadata": {
        "colab": {
          "base_uri": "https://localhost:8080/"
        },
        "id": "CYc9b7QHXjfS",
        "outputId": "f4b11735-0782-4695-9006-36a81da9d01f"
      },
      "execution_count": null,
      "outputs": [
        {
          "output_type": "stream",
          "name": "stdout",
          "text": [
            "GCD of 98 and 56 is 14\n"
          ]
        }
      ]
    },
    {
      "cell_type": "markdown",
      "source": [
        "# **8)Write a Python program to find the second-largest element in a list.**"
      ],
      "metadata": {
        "id": "bPMsy6OnXmy6"
      }
    },
    {
      "cell_type": "code",
      "source": [
        "def sec_largest(arr): #TC: O(n), SC: O(1)\n",
        "  second_large = 0\n",
        "  largest = min(arr)\n",
        "\n",
        "  for i in range(len(arr)):\n",
        "    if arr[i]> largest:\n",
        "      second_large = largest\n",
        "      largest = arr[i]\n",
        "    else:\n",
        "      second_large = max(second_large, arr[i])\n",
        "  return second_large\n",
        "\n",
        "arr = [1,3,6,7,23,56,82,99]\n",
        "ans = sec_largest(arr)\n",
        "print(ans)"
      ],
      "metadata": {
        "colab": {
          "base_uri": "https://localhost:8080/"
        },
        "id": "BUg5p2tRXozK",
        "outputId": "b33b1b68-dfd4-42c7-80e3-f79d499ea837"
      },
      "execution_count": null,
      "outputs": [
        {
          "output_type": "stream",
          "name": "stdout",
          "text": [
            "82\n"
          ]
        }
      ]
    },
    {
      "cell_type": "markdown",
      "source": [
        "# **9)Write a Python program to find the longest common subsequence between two**\n",
        "# **strings using dynamic programming.**"
      ],
      "metadata": {
        "id": "soxkx78cXq-T"
      }
    },
    {
      "cell_type": "code",
      "source": [
        "# The longest common subsequence in Python\n",
        "\n",
        "\n",
        "# Function to find lcs_algo\n",
        "def lcs_algo(S1, S2, m, n):\n",
        "    L = [[0 for x in range(n+1)] for x in range(m+1)]\n",
        "\n",
        "    # Building the mtrix in bottom-up way\n",
        "    for i in range(m+1):\n",
        "        for j in range(n+1):\n",
        "            if i == 0 or j == 0:\n",
        "                L[i][j] = 0\n",
        "            elif S1[i-1] == S2[j-1]:\n",
        "                L[i][j] = L[i-1][j-1] + 1\n",
        "            else:\n",
        "                L[i][j] = max(L[i-1][j], L[i][j-1])\n",
        "\n",
        "    index = L[m][n]\n",
        "\n",
        "    lcs_algo = [\"\"] * (index+1)\n",
        "    lcs_algo[index] = \"\"\n",
        "\n",
        "    i = m\n",
        "    j = n\n",
        "    while i > 0 and j > 0:\n",
        "\n",
        "        if S1[i-1] == S2[j-1]:\n",
        "            lcs_algo[index-1] = S1[i-1]\n",
        "            i -= 1\n",
        "            j -= 1\n",
        "            index -= 1\n",
        "\n",
        "        elif L[i-1][j] > L[i][j-1]:\n",
        "            i -= 1\n",
        "        else:\n",
        "            j -= 1\n",
        "\n",
        "    # Printing the sub sequences\n",
        "    print(\"S1 : \" + S1 + \"\\nS2 : \" + S2)\n",
        "    print(\"LCS: \" + \"\".join(lcs_algo))\n",
        "\n",
        "\n",
        "S1 = \"ACADB\"\n",
        "S2 = \"CBDA\"\n",
        "m = len(S1)\n",
        "n = len(S2)\n",
        "lcs_algo(S1, S2, m, n)"
      ],
      "metadata": {
        "id": "n2JKMamfXxBK",
        "colab": {
          "base_uri": "https://localhost:8080/"
        },
        "outputId": "b2cc7add-c191-44db-b768-784e56ef09b2"
      },
      "execution_count": 5,
      "outputs": [
        {
          "output_type": "stream",
          "name": "stdout",
          "text": [
            "S1 : ACADB\n",
            "S2 : CBDA\n",
            "LCS: CB\n"
          ]
        }
      ]
    }
  ]
}
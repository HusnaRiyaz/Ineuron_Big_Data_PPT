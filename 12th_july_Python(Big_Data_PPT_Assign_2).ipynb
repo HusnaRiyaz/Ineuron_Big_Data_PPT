{
  "nbformat": 4,
  "nbformat_minor": 0,
  "metadata": {
    "colab": {
      "provenance": [],
      "authorship_tag": "ABX9TyNrXzkQt9GvUMe9v8/2BSKY",
      "include_colab_link": true
    },
    "kernelspec": {
      "name": "python3",
      "display_name": "Python 3"
    },
    "language_info": {
      "name": "python"
    }
  },
  "cells": [
    {
      "cell_type": "markdown",
      "metadata": {
        "id": "view-in-github",
        "colab_type": "text"
      },
      "source": [
        "<a href=\"https://colab.research.google.com/github/HusnaRiyaz/Ineuron_Big_Data_PPT/blob/main/12th_july_Python(Big_Data_PPT_Assign_2).ipynb\" target=\"_parent\"><img src=\"https://colab.research.google.com/assets/colab-badge.svg\" alt=\"Open In Colab\"/></a>"
      ]
    },
    {
      "cell_type": "markdown",
      "source": [
        "# **1)Write an SQL query to retrieve the names and email addresses of all employees from a table named \"Employees\".**\n"
      ],
      "metadata": {
        "id": "VkAqxQdOUNGV"
      }
    },
    {
      "cell_type": "code",
      "execution_count": null,
      "metadata": {
        "id": "ySSvQfonT-Ts"
      },
      "outputs": [],
      "source": [
        "select names, email from Employees;"
      ]
    },
    {
      "cell_type": "markdown",
      "source": [
        "# **2) Write an SQL query to filter records from a table named \"Customers\" where the \"City\" column is 'New York'.**\n",
        "\n"
      ],
      "metadata": {
        "id": "quign3UQUriv"
      }
    },
    {
      "cell_type": "code",
      "source": [
        "select * from Customers where city = 'New York'"
      ],
      "metadata": {
        "id": "P01GxXeAUrtF"
      },
      "execution_count": null,
      "outputs": []
    },
    {
      "cell_type": "markdown",
      "source": [
        "# **3)Write an SQL query to sort records in descending order based on the \"DateOfBirth\" column in a table named \"Users\"**"
      ],
      "metadata": {
        "id": "Hn_uee4SUzSd"
      }
    },
    {
      "cell_type": "code",
      "source": [
        "select * from Users order by DateOfBirth DESC;"
      ],
      "metadata": {
        "id": "B_F580n3UzfV"
      },
      "execution_count": null,
      "outputs": []
    },
    {
      "cell_type": "markdown",
      "source": [
        "# **4) Write an SQL query to sort records in ascending order based on the \"RegistrationDate\" column in a table named \"Users\".**"
      ],
      "metadata": {
        "id": "iftb2AcKUzpe"
      }
    },
    {
      "cell_type": "code",
      "source": [
        "select * from Users order by RegistrationDate; # explicitly it oders by ASC"
      ],
      "metadata": {
        "id": "UsrzE4E1UzzF"
      },
      "execution_count": null,
      "outputs": []
    },
    {
      "cell_type": "markdown",
      "source": [
        "# **5) Write an SQL query to find the employee with the highest salary from a table named \"Employees\" and display their name, position, and salary.**"
      ],
      "metadata": {
        "id": "3-SBWSXZUz89"
      }
    },
    {
      "cell_type": "code",
      "source": [
        "select name, position, salary from employees where salary=(select max(salary) from employees);"
      ],
      "metadata": {
        "id": "nTggMY84U0Gd"
      },
      "execution_count": null,
      "outputs": []
    },
    {
      "cell_type": "markdown",
      "source": [
        "# **6) Write an SQL query to retrieve records from a table named \"Customers\" where the \"Phone\" column matches the pattern '+1-XXX-XXX-XXXX'.**"
      ],
      "metadata": {
        "id": "IudUCQuZU0Ov"
      }
    },
    {
      "cell_type": "code",
      "source": [
        "select * from table Customers where Phone LIKE '+1-___-___-____';"
      ],
      "metadata": {
        "id": "1DKpdkdBU0Xm"
      },
      "execution_count": null,
      "outputs": []
    },
    {
      "cell_type": "markdown",
      "source": [
        "# **7) Write an SQL query to retrieve the top 5 customers with the highest total purchase amount from a table named \"Orders\" and display their names and total purchase amounts.**"
      ],
      "metadata": {
        "id": "7pCSCmG7U0f9"
      }
    },
    {
      "cell_type": "code",
      "source": [
        "select names, max(totalpurchase) from Orders limit 5;"
      ],
      "metadata": {
        "id": "sADhszesU0nl"
      },
      "execution_count": null,
      "outputs": []
    },
    {
      "cell_type": "markdown",
      "source": [
        "# **8) Write an SQL query to calculate the percentage of sales for each product category in a table named \"Sales\" and display the category name, total sales amount, and the percentage of total sales.**"
      ],
      "metadata": {
        "id": "OEok465zU0vl"
      }
    },
    {
      "cell_type": "code",
      "source": [
        "select category_name, sum(sales) as total_sales, ROUND(count(sales)*100.0 / (select count(sales) from Sales), 2)\n",
        "                as total_sales_percent from Sales group by category_name;"
      ],
      "metadata": {
        "id": "Lyui3bcydkk6"
      },
      "execution_count": null,
      "outputs": []
    },
    {
      "cell_type": "markdown",
      "source": [
        "# **9) Write an SQL query to find the customers who have made the highest total purchases across all years from a table named \"Orders\" and display their names, email addresses, and the total purchase amount.**"
      ],
      "metadata": {
        "id": "D5FFzvwBU0_u"
      }
    },
    {
      "cell_type": "code",
      "source": [
        "select names, email, addresses, max(totalpurchase) from Orders limit 1;"
      ],
      "metadata": {
        "id": "kQOKJhVjU1HF"
      },
      "execution_count": null,
      "outputs": []
    }
  ]
}